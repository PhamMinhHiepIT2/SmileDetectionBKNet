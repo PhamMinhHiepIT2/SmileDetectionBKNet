{
 "cells": [
  {
   "cell_type": "code",
   "execution_count": 2,
   "metadata": {},
   "outputs": [],
   "source": [
    "import os\n",
    "import cv2\n",
    "import numpy as np\n",
    "from mtcnn.mtcnn import MTCNN\n",
    "\n",
    "detector = MTCNN()"
   ]
  },
  {
   "cell_type": "code",
   "execution_count": 3,
   "metadata": {},
   "outputs": [],
   "source": [
    "from imutils import paths\n",
    "import imutils"
   ]
  },
  {
   "cell_type": "code",
   "execution_count": 4,
   "metadata": {},
   "outputs": [],
   "source": [
    "data_set = \"/Users/admin/Development/Dev/ComputerVision/SmileDetection/dataset/SMILEsmileD/SMILEs/positives\"\n",
    "output = \"output\"\n",
    "# initialize the list of data and labels\n",
    "data = []\n",
    "labels = []"
   ]
  },
  {
   "cell_type": "code",
   "execution_count": 5,
   "metadata": {},
   "outputs": [
    {
     "name": "stdout",
     "output_type": "stream",
     "text": [
      "3690\n"
     ]
    },
    {
     "name": "stderr",
     "output_type": "stream",
     "text": [
      "/Users/admin/anaconda3/envs/py3.8/lib/python3.8/site-packages/numpy/lib/npyio.py:528: VisibleDeprecationWarning: Creating an ndarray from ragged nested sequences (which is a list-or-tuple of lists-or-tuples-or ndarrays with different lengths or shapes) is deprecated. If you meant to do this, you must specify 'dtype=object' when creating the ndarray.\n",
      "  arr = np.asanyarray(arr)\n"
     ]
    }
   ],
   "source": [
    "X = []\n",
    "# loop over the input images\n",
    "for imagePath in sorted(list(paths.list_images(data_set))):\n",
    "    # load the image, pre-process it, and store it in the data list\n",
    "    image = cv2.imread(imagePath)\n",
    "    image = cv2.cvtColor(image, cv2.COLOR_BGR2GRAY)\n",
    "    image = imutils.resize(image, width=28)\n",
    "    T = np.zeros([28, 28, 1])\n",
    "    T[:, :, 0] = image\n",
    "    # image = img_to_array(image)\n",
    "    # data.append(T)\n",
    "\n",
    "    # extract the class label from the image path and update the label list\n",
    "    label = imagePath.split(os.path.sep)[-3]\n",
    "    label = \"smiling\" if label == \"positives\" else \"not_smiling\"\n",
    "    # labels.append(label)\n",
    "    X.append((image, label))\n",
    "    \n",
    "for _ in range(10):\n",
    "    np.random.shuffle(X)\n",
    "\n",
    "print(len(X))\n",
    "\n",
    "train_data, test_data = X[:10000], X[3000:]\n",
    "\n",
    "np.save('/Users/admin/Development/Dev/ComputerVision/SmileDetection/dataset/data/' + 'train.npy', train_data)\n",
    "np.save('/Users/admin/Development/Dev/ComputerVision/SmileDetection/dataset/data/' + 'test.npy', test_data)"
   ]
  },
  {
   "cell_type": "code",
   "execution_count": null,
   "metadata": {},
   "outputs": [],
   "source": []
  }
 ],
 "metadata": {
  "kernelspec": {
   "display_name": "Python 3",
   "language": "python",
   "name": "python3"
  },
  "language_info": {
   "codemirror_mode": {
    "name": "ipython",
    "version": 3
   },
   "file_extension": ".py",
   "mimetype": "text/x-python",
   "name": "python",
   "nbconvert_exporter": "python",
   "pygments_lexer": "ipython3",
   "version": "3.8.12"
  }
 },
 "nbformat": 4,
 "nbformat_minor": 2
}
