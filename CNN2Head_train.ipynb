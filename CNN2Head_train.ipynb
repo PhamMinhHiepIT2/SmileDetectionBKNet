{
 "cells": [
  {
   "cell_type": "code",
   "execution_count": 1,
   "metadata": {},
   "outputs": [
    {
     "name": "stdout",
     "output_type": "stream",
     "text": [
      "WARNING:tensorflow:From /Users/admin/anaconda3/envs/py3.8/lib/python3.8/site-packages/tensorflow/python/compat/v2_compat.py:111: disable_resource_variables (from tensorflow.python.ops.variable_scope) is deprecated and will be removed in a future version.\n",
      "Instructions for updating:\n",
      "non-resource variables are not supported in the long term\n"
     ]
    }
   ],
   "source": [
    "import CNN2Head_input\n",
    "import os\n",
    "import tensorflow as tf\n",
    "import numpy as np\n",
    "import BKNetStyle\n",
    "from const import *\n"
   ]
  },
  {
   "cell_type": "code",
   "execution_count": 2,
   "metadata": {},
   "outputs": [],
   "source": [
    "''' PREPARE DATA '''\n",
    "import sys\n",
    "sys.setrecursionlimit(150000)\n",
    "\n",
    "np_load_old = np.load\n"
   ]
  },
  {
   "cell_type": "code",
   "execution_count": 3,
   "metadata": {},
   "outputs": [
    {
     "name": "stdout",
     "output_type": "stream",
     "text": [
      "Load smile image...................\n",
      "3690\n",
      "690\n",
      "Done !\n",
      "Number of smile train data:  3690\n",
      "---------------------------------------------------------------\n"
     ]
    }
   ],
   "source": [
    "np.load = lambda *a,**k: np_load_old(*a, allow_pickle=True, **k)\n",
    "# np.load = lambda *a,**k: np_load_old(*a,allow_pickle=True)\n",
    "smile_train, smile_test = CNN2Head_input.getSmileImage()"
   ]
  },
  {
   "cell_type": "code",
   "execution_count": 4,
   "metadata": {},
   "outputs": [],
   "source": [
    "def one_hot(index, num_classes):\n",
    "    if index == 'smiling':\n",
    "        index = 1\n",
    "    assert index < num_classes and index >= 0\n",
    "    tmp = np.zeros(num_classes, dtype=np.float32)\n",
    "    tmp[index] = 1.0\n",
    "    return tmp"
   ]
  },
  {
   "cell_type": "code",
   "execution_count": 5,
   "metadata": {
    "scrolled": true
   },
   "outputs": [
    {
     "name": "stderr",
     "output_type": "stream",
     "text": [
      "2022-01-04 16:15:26.366934: I tensorflow/core/platform/cpu_feature_guard.cc:151] This TensorFlow binary is optimized with oneAPI Deep Neural Network Library (oneDNN) to use the following CPU instructions in performance-critical operations:  AVX2 FMA\n",
      "To enable them in other operations, rebuild TensorFlow with the appropriate compiler flags.\n"
     ]
    }
   ],
   "source": [
    "sess = tf.compat.v1.InteractiveSession()\n",
    "tf.compat.v1.disable_eager_execution()\n"
   ]
  },
  {
   "cell_type": "code",
   "execution_count": 6,
   "metadata": {},
   "outputs": [
    {
     "name": "stdout",
     "output_type": "stream",
     "text": [
      "WARNING:tensorflow:From /Users/admin/anaconda3/envs/py3.8/lib/python3.8/site-packages/tensorflow/python/util/dispatch.py:1096: calling dropout (from tensorflow.python.ops.nn_ops) with keep_prob is deprecated and will be removed in a future version.\n",
      "Instructions for updating:\n",
      "Please use `rate` instead of `keep_prob`. Rate should be set to `rate = 1 - keep_prob`.\n"
     ]
    }
   ],
   "source": [
    "global_step = tf.compat.v1.train.get_or_create_global_step()\n",
    "\n",
    "x, y_, mask = BKNetStyle.Input()\n",
    "\n",
    "y_smile_conv, phase_train, keep_prob = BKNetStyle.BKNetModel(x)"
   ]
  },
  {
   "cell_type": "code",
   "execution_count": 7,
   "metadata": {
    "scrolled": true
   },
   "outputs": [],
   "source": [
    "smile_loss, l2_loss, loss = BKNetStyle.selective_loss(y_smile_conv, y_, mask)\n",
    "\n",
    "\n",
    "train_step = BKNetStyle.train_op(loss, global_step)\n",
    "\n",
    "smile_mask = tf.compat.v1.get_collection('smile_mask')[0]\n",
    "\n",
    "\n",
    "y_smile = tf.compat.v1.get_collection('y_smile')[0]\n",
    "\n",
    "\n",
    "smile_correct_prediction = tf.equal(tf.argmax(y_smile_conv, 1), tf.argmax(y_smile, 1))\n",
    "\n",
    "\n",
    "smile_true_pred = tf.reduce_sum(tf.cast(smile_correct_prediction, dtype=tf.float32) * smile_mask)\n"
   ]
  },
  {
   "cell_type": "code",
   "execution_count": 8,
   "metadata": {},
   "outputs": [],
   "source": [
    "\n",
    "train_data = []\n",
    "# Mask: Smile -> 0, Gender -> 1, Age -> 2\n",
    "for i in range(len(smile_train) * 10):\n",
    "    img = (smile_train[i % 3000][0] - 128) / 255.0\n",
    "    label = (smile_train[i % 3000][1])\n",
    "    train_data.append((img, one_hot(label, 4), 0.0))\n",
    "\n"
   ]
  },
  {
   "cell_type": "code",
   "execution_count": 9,
   "metadata": {},
   "outputs": [
    {
     "name": "stdout",
     "output_type": "stream",
     "text": [
      "./save/current/\n",
      "Create new model\n",
      "OK\n"
     ]
    }
   ],
   "source": [
    "from pathlib import Path\n",
    "saver = tf.compat.v1.train.Saver()\n",
    "\n",
    "Path(SAVE_FOLDER).mkdir(parents=True, exist_ok=True)\n",
    "\n",
    "if not os.path.isfile(SAVE_FOLDER + 'model.ckpt.index'):\n",
    "    print(SAVE_FOLDER)\n",
    "    print('Create new model')\n",
    "    sess.run(tf.compat.v1.global_variables_initializer())\n",
    "    print('OK')\n",
    "else:\n",
    "    print('Restoring existed model')\n",
    "    saver.restore(sess, SAVE_FOLDER + 'model.ckpt')\n",
    "    print('OK')"
   ]
  },
  {
   "cell_type": "code",
   "execution_count": 10,
   "metadata": {},
   "outputs": [],
   "source": [
    "\n",
    "loss_summary_placeholder = tf.compat.v1.placeholder(tf.float32)\n",
    "tf.compat.v1.summary.scalar('loss', loss_summary_placeholder)\n",
    "merge_summary = tf.compat.v1.summary.merge_all()\n",
    "writer = tf.compat.v1.summary.FileWriter(\"./summary/\")\n"
   ]
  },
  {
   "cell_type": "code",
   "execution_count": 11,
   "metadata": {},
   "outputs": [],
   "source": [
    "import tensorflow.compat.v1 as tf"
   ]
  },
  {
   "cell_type": "code",
   "execution_count": 12,
   "metadata": {},
   "outputs": [
    {
     "name": "stdout",
     "output_type": "stream",
     "text": [
      "Epoch: 1\n",
      "Learning rate: 0.010000\n",
      "Smile task train accuracy: 100.0\n",
      "Total loss: 0.8339814. L2-loss: 0.8119371\n",
      "Smile loss: 0.02204426\n"
     ]
    },
    {
     "name": "stderr",
     "output_type": "stream",
     "text": [
      "2022-01-04 16:24:19.264585: W tensorflow/core/framework/op_kernel.cc:1745] OP_REQUIRES failed at save_restore_v2_ops.cc:110 : NOT_FOUND: ./save/current; No such file or directory\n"
     ]
    },
    {
     "ename": "ValueError",
     "evalue": "Parent directory of ./save/current/model.ckpt doesn't exist, can't save.",
     "output_type": "error",
     "traceback": [
      "\u001b[0;31m---------------------------------------------------------------------------\u001b[0m",
      "\u001b[0;31mNotFoundError\u001b[0m                             Traceback (most recent call last)",
      "\u001b[0;32m~/anaconda3/envs/py3.8/lib/python3.8/site-packages/tensorflow/python/client/session.py\u001b[0m in \u001b[0;36m_do_call\u001b[0;34m(self, fn, *args)\u001b[0m\n\u001b[1;32m   1379\u001b[0m     \u001b[0;32mtry\u001b[0m\u001b[0;34m:\u001b[0m\u001b[0;34m\u001b[0m\u001b[0;34m\u001b[0m\u001b[0m\n\u001b[0;32m-> 1380\u001b[0;31m       \u001b[0;32mreturn\u001b[0m \u001b[0mfn\u001b[0m\u001b[0;34m(\u001b[0m\u001b[0;34m*\u001b[0m\u001b[0margs\u001b[0m\u001b[0;34m)\u001b[0m\u001b[0;34m\u001b[0m\u001b[0;34m\u001b[0m\u001b[0m\n\u001b[0m\u001b[1;32m   1381\u001b[0m     \u001b[0;32mexcept\u001b[0m \u001b[0merrors\u001b[0m\u001b[0;34m.\u001b[0m\u001b[0mOpError\u001b[0m \u001b[0;32mas\u001b[0m \u001b[0me\u001b[0m\u001b[0;34m:\u001b[0m\u001b[0;34m\u001b[0m\u001b[0;34m\u001b[0m\u001b[0m\n",
      "\u001b[0;32m~/anaconda3/envs/py3.8/lib/python3.8/site-packages/tensorflow/python/client/session.py\u001b[0m in \u001b[0;36m_run_fn\u001b[0;34m(feed_dict, fetch_list, target_list, options, run_metadata)\u001b[0m\n\u001b[1;32m   1362\u001b[0m       \u001b[0mself\u001b[0m\u001b[0;34m.\u001b[0m\u001b[0m_extend_graph\u001b[0m\u001b[0;34m(\u001b[0m\u001b[0;34m)\u001b[0m\u001b[0;34m\u001b[0m\u001b[0;34m\u001b[0m\u001b[0m\n\u001b[0;32m-> 1363\u001b[0;31m       return self._call_tf_sessionrun(options, feed_dict, fetch_list,\n\u001b[0m\u001b[1;32m   1364\u001b[0m                                       target_list, run_metadata)\n",
      "\u001b[0;32m~/anaconda3/envs/py3.8/lib/python3.8/site-packages/tensorflow/python/client/session.py\u001b[0m in \u001b[0;36m_call_tf_sessionrun\u001b[0;34m(self, options, feed_dict, fetch_list, target_list, run_metadata)\u001b[0m\n\u001b[1;32m   1455\u001b[0m                           run_metadata):\n\u001b[0;32m-> 1456\u001b[0;31m     return tf_session.TF_SessionRun_wrapper(self._session, options, feed_dict,\n\u001b[0m\u001b[1;32m   1457\u001b[0m                                             \u001b[0mfetch_list\u001b[0m\u001b[0;34m,\u001b[0m \u001b[0mtarget_list\u001b[0m\u001b[0;34m,\u001b[0m\u001b[0;34m\u001b[0m\u001b[0;34m\u001b[0m\u001b[0m\n",
      "\u001b[0;31mNotFoundError\u001b[0m: ./save/current; No such file or directory\n\t [[{{node save/SaveV2}}]]",
      "\nDuring handling of the above exception, another exception occurred:\n",
      "\u001b[0;31mNotFoundError\u001b[0m                             Traceback (most recent call last)",
      "\u001b[0;32m~/anaconda3/envs/py3.8/lib/python3.8/site-packages/tensorflow/python/training/saver.py\u001b[0m in \u001b[0;36msave\u001b[0;34m(self, sess, save_path, global_step, latest_filename, meta_graph_suffix, write_meta_graph, write_state, strip_default_attrs, save_debug_info)\u001b[0m\n\u001b[1;32m   1275\u001b[0m         \u001b[0;32melse\u001b[0m\u001b[0;34m:\u001b[0m\u001b[0;34m\u001b[0m\u001b[0;34m\u001b[0m\u001b[0m\n\u001b[0;32m-> 1276\u001b[0;31m           model_checkpoint_path = sess.run(\n\u001b[0m\u001b[1;32m   1277\u001b[0m               \u001b[0mself\u001b[0m\u001b[0;34m.\u001b[0m\u001b[0msaver_def\u001b[0m\u001b[0;34m.\u001b[0m\u001b[0msave_tensor_name\u001b[0m\u001b[0;34m,\u001b[0m\u001b[0;34m\u001b[0m\u001b[0;34m\u001b[0m\u001b[0m\n",
      "\u001b[0;32m~/anaconda3/envs/py3.8/lib/python3.8/site-packages/tensorflow/python/client/session.py\u001b[0m in \u001b[0;36mrun\u001b[0;34m(self, fetches, feed_dict, options, run_metadata)\u001b[0m\n\u001b[1;32m    969\u001b[0m     \u001b[0;32mtry\u001b[0m\u001b[0;34m:\u001b[0m\u001b[0;34m\u001b[0m\u001b[0;34m\u001b[0m\u001b[0m\n\u001b[0;32m--> 970\u001b[0;31m       result = self._run(None, fetches, feed_dict, options_ptr,\n\u001b[0m\u001b[1;32m    971\u001b[0m                          run_metadata_ptr)\n",
      "\u001b[0;32m~/anaconda3/envs/py3.8/lib/python3.8/site-packages/tensorflow/python/client/session.py\u001b[0m in \u001b[0;36m_run\u001b[0;34m(self, handle, fetches, feed_dict, options, run_metadata)\u001b[0m\n\u001b[1;32m   1192\u001b[0m     \u001b[0;32mif\u001b[0m \u001b[0mfinal_fetches\u001b[0m \u001b[0;32mor\u001b[0m \u001b[0mfinal_targets\u001b[0m \u001b[0;32mor\u001b[0m \u001b[0;34m(\u001b[0m\u001b[0mhandle\u001b[0m \u001b[0;32mand\u001b[0m \u001b[0mfeed_dict_tensor\u001b[0m\u001b[0;34m)\u001b[0m\u001b[0;34m:\u001b[0m\u001b[0;34m\u001b[0m\u001b[0;34m\u001b[0m\u001b[0m\n\u001b[0;32m-> 1193\u001b[0;31m       results = self._do_run(handle, final_targets, final_fetches,\n\u001b[0m\u001b[1;32m   1194\u001b[0m                              feed_dict_tensor, options, run_metadata)\n",
      "\u001b[0;32m~/anaconda3/envs/py3.8/lib/python3.8/site-packages/tensorflow/python/client/session.py\u001b[0m in \u001b[0;36m_do_run\u001b[0;34m(self, handle, target_list, fetch_list, feed_dict, options, run_metadata)\u001b[0m\n\u001b[1;32m   1372\u001b[0m     \u001b[0;32mif\u001b[0m \u001b[0mhandle\u001b[0m \u001b[0;32mis\u001b[0m \u001b[0;32mNone\u001b[0m\u001b[0;34m:\u001b[0m\u001b[0;34m\u001b[0m\u001b[0;34m\u001b[0m\u001b[0m\n\u001b[0;32m-> 1373\u001b[0;31m       return self._do_call(_run_fn, feeds, fetches, targets, options,\n\u001b[0m\u001b[1;32m   1374\u001b[0m                            run_metadata)\n",
      "\u001b[0;32m~/anaconda3/envs/py3.8/lib/python3.8/site-packages/tensorflow/python/client/session.py\u001b[0m in \u001b[0;36m_do_call\u001b[0;34m(self, fn, *args)\u001b[0m\n\u001b[1;32m   1398\u001b[0m                     'disable_meta_optimizer = True')\n\u001b[0;32m-> 1399\u001b[0;31m       \u001b[0;32mraise\u001b[0m \u001b[0mtype\u001b[0m\u001b[0;34m(\u001b[0m\u001b[0me\u001b[0m\u001b[0;34m)\u001b[0m\u001b[0;34m(\u001b[0m\u001b[0mnode_def\u001b[0m\u001b[0;34m,\u001b[0m \u001b[0mop\u001b[0m\u001b[0;34m,\u001b[0m \u001b[0mmessage\u001b[0m\u001b[0;34m)\u001b[0m  \u001b[0;31m# pylint: disable=no-value-for-parameter\u001b[0m\u001b[0;34m\u001b[0m\u001b[0;34m\u001b[0m\u001b[0m\n\u001b[0m\u001b[1;32m   1400\u001b[0m \u001b[0;34m\u001b[0m\u001b[0m\n",
      "\u001b[0;31mNotFoundError\u001b[0m: ./save/current; No such file or directory\n\t [[node save/SaveV2\n (defined at /var/folders/lv/hcn20sp51tz2bc1v6l7vdn200000gn/T/ipykernel_8102/1323496872.py:1)\n]]\n\nErrors may have originated from an input operation.\nInput Source operations connected to node save/SaveV2:\nIn[0] save/Const:\t\nIn[1] save/SaveV2/tensor_names:\t\nIn[2] save/SaveV2/shape_and_slices:\t\nIn[3] Block1/Block1_0/DW (defined at /Users/admin/Development/Dev/ComputerVision/SmileDetection/BKNetStyle.py:10)\t\nIn[4] Block1/Block1_0/DW/Momentum (defined at /Users/admin/Development/Dev/ComputerVision/SmileDetection/BKNetStyle.py:157)\t\nIn[5] Block1/Block1_1/DW:\t\nIn[6] Block1/Block1_1/DW/Momentum:\t\nIn[7] Block1/bn/Block1/bn/moments/Squeeze/ExponentialMovingAverage (defined at /Users/admin/Development/Dev/ComputerVision/SmileDetection/BKNetStyle.py:68)\t\nIn[8] Block1/bn/Block1/bn/moments/Squeeze_1/ExponentialMovingAverage:\t\nIn[9] Block1/bn/Block1/bn_1/moments/Squeeze/ExponentialMovingAverage:\t\nIn[10] Block1/bn/Block1/bn_1/moments/Squeeze_1/ExponentialMovingAverage:\t\nIn[11] Block1/bn/beta/Read/ReadVariableOp (defined at /Users/admin/Development/Dev/ComputerVision/SmileDetection/BKNetStyle.py:60)\t\nIn[12] Block1/bn/beta/Momentum/Read/ReadVariableOp:\t\nIn[13] Block1/bn/gamma/Read/ReadVariableOp (defined at /Users/admin/Development/Dev/ComputerVision/SmileDetection/BKNetStyle.py:62)\t\nIn[14] Block1/bn/gamma/Momentum/Read/ReadVariableOp:\t\nIn[15] Block1/bn_1/beta/Read/ReadVariableOp:\t\nIn[16] Block1/bn_1/beta/Momentum/Read/ReadVariableOp:\t\nIn[17] Block1/bn_1/gamma/Read/ReadVariableOp:\t\nIn[18] Block1/bn_1/gamma/Momentum/Read/ReadVariableOp:\t\nIn[19] Block2/Block2_0/DW:\t\nIn[20] Block2/Block2_0/DW/Momentum:\t\nIn[21] Block2/Block2_1/DW:\t\nIn[22] Block2/Block2_1/DW/Momentum:\t\nIn[23] Block2/bn/Block2/bn/moments/Squeeze/ExponentialMovingAverage:\t\nIn[24] Block2/bn/Block2/bn/moments/Squeeze_1/ExponentialMovingAverage:\t\nIn[25] Block2/bn/Block2/bn_1/moments/Squeeze/ExponentialMovingAverage:\t\nIn[26] Block2/bn/Block2/bn_1/moments/Squeeze_1/ExponentialMovingAverage:\t\nIn[27] Block2/bn/beta/Read/ReadVariableOp:\t\nIn[28] Block2/bn/beta/Momentum/Read/ReadVariableOp:\t\nIn[29] Block2/bn/gamma/Read/ReadVariableOp:\t\nIn[30] Block2/bn/gamma/Momentum/Read/ReadVariableOp:\t\nIn[31] Block2/bn_1/beta/Read/ReadVariableOp:\t\nIn[32] Block2/bn_1/beta/Momentum/Read/ReadVariableOp:\t\nIn[33] Block2/bn_1/gamma/Read/ReadVariableOp:\t\nIn[34] Block2/bn_1/gamma/Momentum/Read/ReadVariableOp:\t\nIn[35] Block3/Block3_0/DW:\t\nIn[36] Block3/Block3_0/DW/Momentum:\t\nIn[37] Block3/Block3_1/DW:\t\nIn[38] Block3/Block3_1/DW/Momentum:\t\nIn[39] Block3/bn/Block3/bn/moments/Squeeze/ExponentialMovingAverage:\t\nIn[40] Block3/bn/Block3/bn/moments/Squeeze_1/ExponentialMovingAverage:\t\nIn[41] Block3/bn/Block3/bn_1/moments/Squeeze/ExponentialMovingAverage:\t\nIn[42] Block3/bn/Block3/bn_1/moments/Squeeze_1/ExponentialMovingAverage:\t\nIn[43] Block3/bn/beta/Read/ReadVariableOp:\t\nIn[44] Block3/bn/beta/Momentum/Read/ReadVariableOp:\t\nIn[45] Block3/bn/gamma/Read/ReadVariableOp:\t\nIn[46] Block3/bn/gamma/Momentum/Read/ReadVariableOp:\t\nIn[47] Block3/bn_1/beta/Read/ReadVariableOp:\t\nIn[48] Block3/bn_1/beta/Momentum/Read/ReadVariableOp:\t\nIn[49] Block3/bn_1/gamma/Read/ReadVariableOp:\t\nIn[50] Block3/bn_1/gamma/Momentum/Read/ReadVariableOp:\t\nIn[51] Block4/Block4_0/DW:\t\nIn[52] Block4/Block4_0/DW/Momentum:\t\nIn[53] Block4/Block4_1/DW:\t\nIn[54] Block4/Block4_1/DW/Momentum:\t\nIn[55] Block4/Block4_2/DW:\t\nIn[56] Block4/Block4_2/DW/Momentum:\t\nIn[57] Block4/bn/Block4/bn/moments/Squeeze/ExponentialMovingAverage:\t\nIn[58] Block4/bn/Block4/bn/moments/Squeeze_1/ExponentialMovingAverage:\t\nIn[59] Block4/bn/Block4/bn_1/moments/Squeeze/ExponentialMovingAverage:\t\nIn[60] Block4/bn/Block4/bn_1/moments/Squeeze_1/ExponentialMovingAverage:\t\nIn[61] Block4/bn/Block4/bn_2/moments/Squeeze/ExponentialMovingAverage:\t\nIn[62] Block4/bn/Block4/bn_2/moments/Squeeze_1/ExponentialMovingAverage:\t\nIn[63] Block4/bn/beta/Read/ReadVariableOp:\t\nIn[64] Block4/bn/beta/Momentum/Read/ReadVariableOp:\t\nIn[65] Block4/bn/gamma/Read/ReadVariableOp:\t\nIn[66] Block4/bn/gamma/Momentum/Read/ReadVariableOp:\t\nIn[67] Block4/bn_1/beta/Read/ReadVariableOp:\t\nIn[68] Block4/bn_1/beta/Momentum/Read/ReadVariableOp:\t\nIn[69] Block4/bn_1/gamma/Read/ReadVariableOp:\t\nIn[70] Block4/bn_1/gamma/Momentum/Read/ReadVariableOp:\t\nIn[71] Block4/bn_2/beta/Read/ReadVariableOp:\t\nIn[72] Block4/bn_2/beta/Momentum/Read/ReadVariableOp:\t\nIn[73] Block4/bn_2/gamma/Read/ReadVariableOp:\t\nIn[74] Block4/bn_2/gamma/Momentum/Read/ReadVariableOp:\t\nIn[75] global_step (defined at /var/folders/lv/hcn20sp51tz2bc1v6l7vdn200000gn/T/ipykernel_8102/1185154631.py:1)\t\nIn[76] smile_fc1/DW (defined at /Users/admin/Development/Dev/ComputerVision/SmileDetection/BKNetStyle.py:26)\t\nIn[77] smile_fc1/DW/Momentum:\t\nIn[78] smile_fc1/bias (defined at /Users/admin/Development/Dev/ComputerVision/SmileDetection/BKNetStyle.py:28)\t\nIn[79] smile_fc1/bias/Momentum:\t\nIn[80] smile_fc2/DW:\t\nIn[81] smile_fc2/DW/Momentum:\t\nIn[82] smile_fc2/bias:\t\nIn[83] smile_fc2/bias/Momentum:\t\nIn[84] smile_softmax/DW:\t\nIn[85] smile_softmax/DW/Momentum:\t\nIn[86] smile_softmax/bias:\t\nIn[87] smile_softmax/bias/Momentum:\n\nOperation defined at: (most recent call last)\n>>>   File \"/Users/admin/anaconda3/envs/py3.8/lib/python3.8/runpy.py\", line 194, in _run_module_as_main\n>>>     return _run_code(code, main_globals, None,\n>>> \n>>>   File \"/Users/admin/anaconda3/envs/py3.8/lib/python3.8/runpy.py\", line 87, in _run_code\n>>>     exec(code, run_globals)\n>>> \n>>>   File \"/Users/admin/anaconda3/envs/py3.8/lib/python3.8/site-packages/ipykernel_launcher.py\", line 16, in <module>\n>>>     app.launch_new_instance()\n>>> \n>>>   File \"/Users/admin/anaconda3/envs/py3.8/lib/python3.8/site-packages/traitlets/config/application.py\", line 846, in launch_instance\n>>>     app.start()\n>>> \n>>>   File \"/Users/admin/anaconda3/envs/py3.8/lib/python3.8/site-packages/ipykernel/kernelapp.py\", line 677, in start\n>>>     self.io_loop.start()\n>>> \n>>>   File \"/Users/admin/anaconda3/envs/py3.8/lib/python3.8/site-packages/tornado/platform/asyncio.py\", line 199, in start\n>>>     self.asyncio_loop.run_forever()\n>>> \n>>>   File \"/Users/admin/anaconda3/envs/py3.8/lib/python3.8/asyncio/base_events.py\", line 570, in run_forever\n>>>     self._run_once()\n>>> \n>>>   File \"/Users/admin/anaconda3/envs/py3.8/lib/python3.8/asyncio/base_events.py\", line 1859, in _run_once\n>>>     handle._run()\n>>> \n>>>   File \"/Users/admin/anaconda3/envs/py3.8/lib/python3.8/asyncio/events.py\", line 81, in _run\n>>>     self._context.run(self._callback, *self._args)\n>>> \n>>>   File \"/Users/admin/anaconda3/envs/py3.8/lib/python3.8/site-packages/ipykernel/kernelbase.py\", line 457, in dispatch_queue\n>>>     await self.process_one()\n>>> \n>>>   File \"/Users/admin/anaconda3/envs/py3.8/lib/python3.8/site-packages/ipykernel/kernelbase.py\", line 446, in process_one\n>>>     await dispatch(*args)\n>>> \n>>>   File \"/Users/admin/anaconda3/envs/py3.8/lib/python3.8/site-packages/ipykernel/kernelbase.py\", line 353, in dispatch_shell\n>>>     await result\n>>> \n>>>   File \"/Users/admin/anaconda3/envs/py3.8/lib/python3.8/site-packages/ipykernel/kernelbase.py\", line 648, in execute_request\n>>>     reply_content = await reply_content\n>>> \n>>>   File \"/Users/admin/anaconda3/envs/py3.8/lib/python3.8/site-packages/ipykernel/ipkernel.py\", line 353, in do_execute\n>>>     res = shell.run_cell(code, store_history=store_history, silent=silent)\n>>> \n>>>   File \"/Users/admin/anaconda3/envs/py3.8/lib/python3.8/site-packages/ipykernel/zmqshell.py\", line 533, in run_cell\n>>>     return super(ZMQInteractiveShell, self).run_cell(*args, **kwargs)\n>>> \n>>>   File \"/Users/admin/anaconda3/envs/py3.8/lib/python3.8/site-packages/IPython/core/interactiveshell.py\", line 2914, in run_cell\n>>>     result = self._run_cell(\n>>> \n>>>   File \"/Users/admin/anaconda3/envs/py3.8/lib/python3.8/site-packages/IPython/core/interactiveshell.py\", line 2960, in _run_cell\n>>>     return runner(coro)\n>>> \n>>>   File \"/Users/admin/anaconda3/envs/py3.8/lib/python3.8/site-packages/IPython/core/async_helpers.py\", line 78, in _pseudo_sync_runner\n>>>     coro.send(None)\n>>> \n>>>   File \"/Users/admin/anaconda3/envs/py3.8/lib/python3.8/site-packages/IPython/core/interactiveshell.py\", line 3185, in run_cell_async\n>>>     has_raised = await self.run_ast_nodes(code_ast.body, cell_name,\n>>> \n>>>   File \"/Users/admin/anaconda3/envs/py3.8/lib/python3.8/site-packages/IPython/core/interactiveshell.py\", line 3377, in run_ast_nodes\n>>>     if (await self.run_code(code, result,  async_=asy)):\n>>> \n>>>   File \"/Users/admin/anaconda3/envs/py3.8/lib/python3.8/site-packages/IPython/core/interactiveshell.py\", line 3457, in run_code\n>>>     exec(code_obj, self.user_global_ns, self.user_ns)\n>>> \n>>>   File \"/var/folders/lv/hcn20sp51tz2bc1v6l7vdn200000gn/T/ipykernel_8102/1323496872.py\", line 1, in <module>\n>>>     saver = tf.compat.v1.train.Saver()\n>>> \n\nOriginal stack trace for 'save/SaveV2':\n  File \"/Users/admin/anaconda3/envs/py3.8/lib/python3.8/runpy.py\", line 194, in _run_module_as_main\n    return _run_code(code, main_globals, None,\n  File \"/Users/admin/anaconda3/envs/py3.8/lib/python3.8/runpy.py\", line 87, in _run_code\n    exec(code, run_globals)\n  File \"/Users/admin/anaconda3/envs/py3.8/lib/python3.8/site-packages/ipykernel_launcher.py\", line 16, in <module>\n    app.launch_new_instance()\n  File \"/Users/admin/anaconda3/envs/py3.8/lib/python3.8/site-packages/traitlets/config/application.py\", line 846, in launch_instance\n    app.start()\n  File \"/Users/admin/anaconda3/envs/py3.8/lib/python3.8/site-packages/ipykernel/kernelapp.py\", line 677, in start\n    self.io_loop.start()\n  File \"/Users/admin/anaconda3/envs/py3.8/lib/python3.8/site-packages/tornado/platform/asyncio.py\", line 199, in start\n    self.asyncio_loop.run_forever()\n  File \"/Users/admin/anaconda3/envs/py3.8/lib/python3.8/asyncio/base_events.py\", line 570, in run_forever\n    self._run_once()\n  File \"/Users/admin/anaconda3/envs/py3.8/lib/python3.8/asyncio/base_events.py\", line 1859, in _run_once\n    handle._run()\n  File \"/Users/admin/anaconda3/envs/py3.8/lib/python3.8/asyncio/events.py\", line 81, in _run\n    self._context.run(self._callback, *self._args)\n  File \"/Users/admin/anaconda3/envs/py3.8/lib/python3.8/site-packages/ipykernel/kernelbase.py\", line 457, in dispatch_queue\n    await self.process_one()\n  File \"/Users/admin/anaconda3/envs/py3.8/lib/python3.8/site-packages/ipykernel/kernelbase.py\", line 446, in process_one\n    await dispatch(*args)\n  File \"/Users/admin/anaconda3/envs/py3.8/lib/python3.8/site-packages/ipykernel/kernelbase.py\", line 353, in dispatch_shell\n    await result\n  File \"/Users/admin/anaconda3/envs/py3.8/lib/python3.8/site-packages/ipykernel/kernelbase.py\", line 648, in execute_request\n    reply_content = await reply_content\n  File \"/Users/admin/anaconda3/envs/py3.8/lib/python3.8/site-packages/ipykernel/ipkernel.py\", line 353, in do_execute\n    res = shell.run_cell(code, store_history=store_history, silent=silent)\n  File \"/Users/admin/anaconda3/envs/py3.8/lib/python3.8/site-packages/ipykernel/zmqshell.py\", line 533, in run_cell\n    return super(ZMQInteractiveShell, self).run_cell(*args, **kwargs)\n  File \"/Users/admin/anaconda3/envs/py3.8/lib/python3.8/site-packages/IPython/core/interactiveshell.py\", line 2914, in run_cell\n    result = self._run_cell(\n  File \"/Users/admin/anaconda3/envs/py3.8/lib/python3.8/site-packages/IPython/core/interactiveshell.py\", line 2960, in _run_cell\n    return runner(coro)\n  File \"/Users/admin/anaconda3/envs/py3.8/lib/python3.8/site-packages/IPython/core/async_helpers.py\", line 78, in _pseudo_sync_runner\n    coro.send(None)\n  File \"/Users/admin/anaconda3/envs/py3.8/lib/python3.8/site-packages/IPython/core/interactiveshell.py\", line 3185, in run_cell_async\n    has_raised = await self.run_ast_nodes(code_ast.body, cell_name,\n  File \"/Users/admin/anaconda3/envs/py3.8/lib/python3.8/site-packages/IPython/core/interactiveshell.py\", line 3377, in run_ast_nodes\n    if (await self.run_code(code, result,  async_=asy)):\n  File \"/Users/admin/anaconda3/envs/py3.8/lib/python3.8/site-packages/IPython/core/interactiveshell.py\", line 3457, in run_code\n    exec(code_obj, self.user_global_ns, self.user_ns)\n  File \"/var/folders/lv/hcn20sp51tz2bc1v6l7vdn200000gn/T/ipykernel_8102/1323496872.py\", line 1, in <module>\n    saver = tf.compat.v1.train.Saver()\n  File \"/Users/admin/anaconda3/envs/py3.8/lib/python3.8/site-packages/tensorflow/python/training/saver.py\", line 923, in __init__\n    self.build()\n  File \"/Users/admin/anaconda3/envs/py3.8/lib/python3.8/site-packages/tensorflow/python/training/saver.py\", line 935, in build\n    self._build(self._filename, build_save=True, build_restore=True)\n  File \"/Users/admin/anaconda3/envs/py3.8/lib/python3.8/site-packages/tensorflow/python/training/saver.py\", line 963, in _build\n    self.saver_def = self._builder._build_internal(  # pylint: disable=protected-access\n  File \"/Users/admin/anaconda3/envs/py3.8/lib/python3.8/site-packages/tensorflow/python/training/saver.py\", line 531, in _build_internal\n    save_tensor = self._AddSaveOps(filename_tensor, saveables)\n  File \"/Users/admin/anaconda3/envs/py3.8/lib/python3.8/site-packages/tensorflow/python/training/saver.py\", line 223, in _AddSaveOps\n    save = self.save_op(filename_tensor, saveables)\n  File \"/Users/admin/anaconda3/envs/py3.8/lib/python3.8/site-packages/tensorflow/python/training/saver.py\", line 138, in save_op\n    return io_ops.save_v2(filename_tensor, tensor_names, tensor_slices,\n  File \"/Users/admin/anaconda3/envs/py3.8/lib/python3.8/site-packages/tensorflow/python/ops/gen_io_ops.py\", line 1713, in save_v2\n    _, _, _op, _outputs = _op_def_library._apply_op_helper(\n  File \"/Users/admin/anaconda3/envs/py3.8/lib/python3.8/site-packages/tensorflow/python/framework/op_def_library.py\", line 744, in _apply_op_helper\n    op = g._create_op_internal(op_type_name, inputs, dtypes=None,\n  File \"/Users/admin/anaconda3/envs/py3.8/lib/python3.8/site-packages/tensorflow/python/framework/ops.py\", line 3697, in _create_op_internal\n    ret = Operation(\n  File \"/Users/admin/anaconda3/envs/py3.8/lib/python3.8/site-packages/tensorflow/python/framework/ops.py\", line 2101, in __init__\n    self._traceback = tf_stack.extract_stack_for_node(self._c_op)\n",
      "\nDuring handling of the above exception, another exception occurred:\n",
      "\u001b[0;31mValueError\u001b[0m                                Traceback (most recent call last)",
      "\u001b[0;32m/var/folders/lv/hcn20sp51tz2bc1v6l7vdn200000gn/T/ipykernel_8102/2880170445.py\u001b[0m in \u001b[0;36m<module>\u001b[0;34m\u001b[0m\n\u001b[1;32m     74\u001b[0m \u001b[0;34m\u001b[0m\u001b[0m\n\u001b[1;32m     75\u001b[0m \u001b[0;34m\u001b[0m\u001b[0m\n\u001b[0;32m---> 76\u001b[0;31m     \u001b[0msaver\u001b[0m\u001b[0;34m.\u001b[0m\u001b[0msave\u001b[0m\u001b[0;34m(\u001b[0m\u001b[0msess\u001b[0m\u001b[0;34m,\u001b[0m \u001b[0mSAVE_FOLDER\u001b[0m \u001b[0;34m+\u001b[0m \u001b[0;34m'model.ckpt'\u001b[0m\u001b[0;34m)\u001b[0m\u001b[0;34m\u001b[0m\u001b[0;34m\u001b[0m\u001b[0m\n\u001b[0m",
      "\u001b[0;32m~/anaconda3/envs/py3.8/lib/python3.8/site-packages/tensorflow/python/training/saver.py\u001b[0m in \u001b[0;36msave\u001b[0;34m(self, sess, save_path, global_step, latest_filename, meta_graph_suffix, write_meta_graph, write_state, strip_default_attrs, save_debug_info)\u001b[0m\n\u001b[1;32m   1293\u001b[0m               \"Parent directory of {} doesn't exist, can't save.\".format(\n\u001b[1;32m   1294\u001b[0m                   save_path))\n\u001b[0;32m-> 1295\u001b[0;31m         \u001b[0;32mraise\u001b[0m \u001b[0mexc\u001b[0m\u001b[0;34m\u001b[0m\u001b[0;34m\u001b[0m\u001b[0m\n\u001b[0m\u001b[1;32m   1296\u001b[0m \u001b[0;34m\u001b[0m\u001b[0m\n\u001b[1;32m   1297\u001b[0m     \u001b[0mend_time\u001b[0m \u001b[0;34m=\u001b[0m \u001b[0mtime\u001b[0m\u001b[0;34m.\u001b[0m\u001b[0mtime\u001b[0m\u001b[0;34m(\u001b[0m\u001b[0;34m)\u001b[0m\u001b[0;34m\u001b[0m\u001b[0;34m\u001b[0m\u001b[0m\n",
      "\u001b[0;31mValueError\u001b[0m: Parent directory of ./save/current/model.ckpt doesn't exist, can't save."
     ]
    }
   ],
   "source": [
    "\n",
    "learning_rate = tf.get_collection('learning_rate')[0]\n",
    "\n",
    "current_epoch = (int)(global_step.eval() / (len(train_data) // BATCH_SIZE))\n",
    "for epoch in range(current_epoch + 1, NUM_EPOCHS):\n",
    "    print('Epoch:', str(epoch))\n",
    "    np.random.shuffle(train_data)\n",
    "    train_img = []\n",
    "    train_label = []\n",
    "    train_mask = []\n",
    "\n",
    "    for i in range(len(train_data)):\n",
    "        train_img.append(train_data[i][0])\n",
    "        train_label.append(train_data[i][1])\n",
    "        train_mask.append(train_data[i][2])\n",
    "\n",
    "    number_batch = len(train_data) // BATCH_SIZE\n",
    "\n",
    "    avg_ttl = []\n",
    "    avg_rgl = []\n",
    "    avg_smile_loss = []\n",
    "\n",
    "\n",
    "    smile_nb_true_pred = 0\n",
    "\n",
    "\n",
    "    smile_nb_train = 0\n",
    "\n",
    "\n",
    "    print(\"Learning rate: %f\" % learning_rate.eval())\n",
    "    for batch in range(number_batch):\n",
    "        top = batch * BATCH_SIZE\n",
    "        bot = min((batch + 1) * BATCH_SIZE, len(train_data))\n",
    "        batch_img = np.asarray(train_img[top:bot])\n",
    "        batch_label = np.asarray(train_label[top:bot])\n",
    "        batch_mask = np.asarray(train_mask[top:bot])\n",
    "\n",
    "        for i in range(BATCH_SIZE):\n",
    "            if batch_mask[i] == 0.0:\n",
    "                smile_nb_train += 1\n",
    "\n",
    "        batch_img = CNN2Head_input.augmentation(batch_img, 28)\n",
    "        batch_img = np.reshape(batch_img, (-1, 28, 28, 1))\n",
    "\n",
    "        ttl, sml, l2l, _ = sess.run([loss, smile_loss, l2_loss, train_step],\n",
    "                                              feed_dict={x: batch_img, y_: batch_label, mask: batch_mask,\n",
    "                                                         phase_train: True,\n",
    "                                                         keep_prob: 0.5})\n",
    "\n",
    "        smile_nb_true_pred += sess.run(smile_true_pred, feed_dict={x: batch_img, y_: batch_label, mask: batch_mask,\n",
    "                                                                   phase_train: True,\n",
    "                                                                   keep_prob: 0.5})\n",
    "\n",
    "        avg_ttl.append(ttl)\n",
    "        avg_smile_loss.append(sml)\n",
    "\n",
    "\n",
    "        avg_rgl.append(l2l)\n",
    "\n",
    "    smile_train_accuracy = smile_nb_true_pred * 1.0 / smile_nb_train\n",
    "\n",
    "    avg_smile_loss = np.average(avg_smile_loss)\n",
    "\n",
    "\n",
    "    avg_rgl = np.average(avg_rgl)\n",
    "    avg_ttl = np.average(avg_ttl)\n",
    "\n",
    "    summary = sess.run(merge_summary, feed_dict={loss_summary_placeholder: avg_ttl})\n",
    "    writer.add_summary(summary, global_step=epoch)\n",
    "\n",
    "    print('Smile task train accuracy: ' + str(smile_train_accuracy * 100))\n",
    "\n",
    "    print('Total loss: ' + str(avg_ttl) + '. L2-loss: ' + str(avg_rgl))\n",
    "    print('Smile loss: ' + str(avg_smile_loss))\n",
    "\n",
    "\n",
    "    saver.save(sess, SAVE_FOLDER + 'model.ckpt')"
   ]
  },
  {
   "cell_type": "code",
   "execution_count": null,
   "metadata": {},
   "outputs": [],
   "source": []
  }
 ],
 "metadata": {
  "kernelspec": {
   "display_name": "Python 3",
   "language": "python",
   "name": "python3"
  },
  "language_info": {
   "codemirror_mode": {
    "name": "ipython",
    "version": 3
   },
   "file_extension": ".py",
   "mimetype": "text/x-python",
   "name": "python",
   "nbconvert_exporter": "python",
   "pygments_lexer": "ipython3",
   "version": "3.8.12"
  }
 },
 "nbformat": 4,
 "nbformat_minor": 2
}
